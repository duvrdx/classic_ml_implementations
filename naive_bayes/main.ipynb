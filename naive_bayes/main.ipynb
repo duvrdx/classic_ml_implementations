{
 "cells": [
  {
   "cell_type": "code",
   "execution_count": 1,
   "metadata": {},
   "outputs": [],
   "source": [
    "import pandas as pd\n",
    "from tqdm import tqdm"
   ]
  },
  {
   "cell_type": "code",
   "execution_count": 2,
   "metadata": {},
   "outputs": [
    {
     "data": {
      "text/html": [
       "<div>\n",
       "<style scoped>\n",
       "    .dataframe tbody tr th:only-of-type {\n",
       "        vertical-align: middle;\n",
       "    }\n",
       "\n",
       "    .dataframe tbody tr th {\n",
       "        vertical-align: top;\n",
       "    }\n",
       "\n",
       "    .dataframe thead th {\n",
       "        text-align: right;\n",
       "    }\n",
       "</style>\n",
       "<table border=\"1\" class=\"dataframe\">\n",
       "  <thead>\n",
       "    <tr style=\"text-align: right;\">\n",
       "      <th></th>\n",
       "      <th>Unnamed: 0</th>\n",
       "      <th>label</th>\n",
       "      <th>text</th>\n",
       "      <th>label_num</th>\n",
       "    </tr>\n",
       "  </thead>\n",
       "  <tbody>\n",
       "    <tr>\n",
       "      <th>0</th>\n",
       "      <td>605</td>\n",
       "      <td>ham</td>\n",
       "      <td>Subject: enron methanol ; meter # : 988291\\r\\n...</td>\n",
       "      <td>0</td>\n",
       "    </tr>\n",
       "    <tr>\n",
       "      <th>1</th>\n",
       "      <td>2349</td>\n",
       "      <td>ham</td>\n",
       "      <td>Subject: hpl nom for january 9 , 2001\\r\\n( see...</td>\n",
       "      <td>0</td>\n",
       "    </tr>\n",
       "  </tbody>\n",
       "</table>\n",
       "</div>"
      ],
      "text/plain": [
       "   Unnamed: 0 label                                               text  \\\n",
       "0         605   ham  Subject: enron methanol ; meter # : 988291\\r\\n...   \n",
       "1        2349   ham  Subject: hpl nom for january 9 , 2001\\r\\n( see...   \n",
       "\n",
       "   label_num  \n",
       "0          0  \n",
       "1          0  "
      ]
     },
     "execution_count": 2,
     "metadata": {},
     "output_type": "execute_result"
    }
   ],
   "source": [
    "dataset = pd.read_csv(\"dataset.csv\")\n",
    "dataset.head(2)"
   ]
  },
  {
   "cell_type": "markdown",
   "metadata": {},
   "source": [
    "\n",
    "## Limpando Dados"
   ]
  },
  {
   "cell_type": "code",
   "execution_count": 3,
   "metadata": {},
   "outputs": [],
   "source": [
    "texts = [x[9:] for x in dataset.text]\n",
    "labels = [x for x in dataset.label]\n",
    "\n",
    "for pos, label in enumerate(labels):\n",
    "    if label == \"ham\":\n",
    "        labels[pos] = False\n",
    "    else:\n",
    "        labels[pos] = True"
   ]
  },
  {
   "cell_type": "code",
   "execution_count": 4,
   "metadata": {},
   "outputs": [],
   "source": [
    "from sklearn.model_selection import train_test_split\n",
    "x_train, x_test, y_train, y_test = train_test_split(texts, labels, test_size= .30)"
   ]
  },
  {
   "cell_type": "code",
   "execution_count": 5,
   "metadata": {},
   "outputs": [],
   "source": [
    "from Message import Message\n",
    "\n",
    "train = x_train\n",
    "for pos, train_text in enumerate(train):\n",
    "    train[pos] = Message(train_text, y_train[pos])\n",
    "\n",
    "test = x_test\n",
    "for pos, test_text in enumerate(test):\n",
    "    test[pos] = Message(test_text, y_test[pos])"
   ]
  },
  {
   "cell_type": "code",
   "execution_count": 6,
   "metadata": {},
   "outputs": [],
   "source": [
    "from Model import NaiveBayes\n",
    "model = NaiveBayes(k=.1)\n",
    "\n",
    "model.train(train)"
   ]
  },
  {
   "cell_type": "code",
   "execution_count": 7,
   "metadata": {},
   "outputs": [
    {
     "name": "stderr",
     "output_type": "stream",
     "text": [
      "Items -: 100%|██████████| 1552/1552 [01:15<00:00, 20.69it/s]\n"
     ]
    }
   ],
   "source": [
    "predicts = []\n",
    "real_labels = []\n",
    "\n",
    "for i in tqdm(range(0, len(test)), desc =\"Items -\"):\n",
    "    try:\n",
    "        predicts.append(model.predict(test[i].text))\n",
    "        real_labels.append(test[i].is_spam)\n",
    "    except:\n",
    "        pass"
   ]
  },
  {
   "cell_type": "code",
   "execution_count": 9,
   "metadata": {},
   "outputs": [
    {
     "name": "stdout",
     "output_type": "stream",
     "text": [
      "              precision    recall  f1-score   support\n",
      "\n",
      "         ham       0.89      0.99      0.94      1035\n",
      "        spam       0.97      0.68      0.80       379\n",
      "\n",
      "   micro avg       0.91      0.91      0.91      1414\n",
      "   macro avg       0.93      0.83      0.87      1414\n",
      "weighted avg       0.91      0.91      0.90      1414\n",
      "\n",
      "0.9080622347949081\n",
      "[[1028    7]\n",
      " [ 123  256]]\n"
     ]
    },
    {
     "name": "stderr",
     "output_type": "stream",
     "text": [
      "/home/duvrdx/anaconda3/envs/models/lib/python3.10/site-packages/numpy/lib/arraysetops.py:729: FutureWarning: elementwise comparison failed; returning scalar instead, but in the future will perform elementwise comparison\n",
      "  mask &= (ar1 != a)\n",
      "/home/duvrdx/anaconda3/envs/models/lib/python3.10/site-packages/numpy/lib/arraysetops.py:729: FutureWarning: elementwise comparison failed; returning scalar instead, but in the future will perform elementwise comparison\n",
      "  mask &= (ar1 != a)\n",
      "/home/duvrdx/anaconda3/envs/models/lib/python3.10/site-packages/numpy/lib/arraysetops.py:729: FutureWarning: elementwise comparison failed; returning scalar instead, but in the future will perform elementwise comparison\n",
      "  mask &= (ar1 != a)\n",
      "/home/duvrdx/anaconda3/envs/models/lib/python3.10/site-packages/numpy/lib/arraysetops.py:729: FutureWarning: elementwise comparison failed; returning scalar instead, but in the future will perform elementwise comparison\n",
      "  mask &= (ar1 != a)\n"
     ]
    }
   ],
   "source": [
    "from sklearn.metrics import confusion_matrix, classification_report, accuracy_score\n",
    "\n",
    "for pos, i in enumerate(predicts):\n",
    "    if i >.5:\n",
    "        predicts[pos] = True\n",
    "    else:\n",
    "        predicts[pos] = False\n",
    "\n",
    "print(classification_report(real_labels, predicts, target_names=[\"ham\", \"spam\"], labels=[\"False\", \"True\"]))\n",
    "print(accuracy_score(real_labels, predicts))\n",
    "print(confusion_matrix(real_labels, predicts))\n"
   ]
  }
 ],
 "metadata": {
  "interpreter": {
   "hash": "abc02b4991574ba4b5afa33f562c0efb1f2b0c3f0d7022ea1f79f5866c6bad59"
  },
  "kernelspec": {
   "display_name": "Python 3.10.9 ('models')",
   "language": "python",
   "name": "python3"
  },
  "language_info": {
   "codemirror_mode": {
    "name": "ipython",
    "version": 3
   },
   "file_extension": ".py",
   "mimetype": "text/x-python",
   "name": "python",
   "nbconvert_exporter": "python",
   "pygments_lexer": "ipython3",
   "version": "3.10.9"
  },
  "orig_nbformat": 4
 },
 "nbformat": 4,
 "nbformat_minor": 2
}
